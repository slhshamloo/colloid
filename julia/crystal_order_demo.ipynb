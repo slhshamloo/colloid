{
 "cells": [
  {
   "cell_type": "code",
   "execution_count": null,
   "metadata": {},
   "outputs": [],
   "source": [
    "using Plots\n",
    "\n",
    "include(\"src/PolyColloid.jl\")\n",
    "using .PolyColloid"
   ]
  },
  {
   "cell_type": "code",
   "execution_count": null,
   "metadata": {},
   "outputs": [],
   "source": [
    "colloid = Colloid(1, 4, 1 / √2, (20, 20))\n",
    "add_random_particles!(colloid, 10000)\n",
    "plot(colloid, size=(500, 500), legend=false, xlims=(0, 20), ylims=(0, 20))\n"
   ]
  }
 ],
 "metadata": {
  "kernelspec": {
   "display_name": "Julia 1.7.0",
   "language": "julia",
   "name": "julia-1.7"
  },
  "language_info": {
   "name": "julia"
  },
  "orig_nbformat": 4
 },
 "nbformat": 4,
 "nbformat_minor": 2
}
